{
  "cells": [
    {
      "cell_type": "markdown",
      "metadata": {
        "id": "view-in-github",
        "colab_type": "text"
      },
      "source": [
        "<a href=\"https://colab.research.google.com/github/IdaCy/mech-typo-detect/blob/main/typo_detection.ipynb\" target=\"_parent\"><img src=\"https://colab.research.google.com/assets/colab-badge.svg\" alt=\"Open In Colab\"/></a>"
      ]
    },
    {
      "cell_type": "markdown",
      "metadata": {
        "id": "lE82C9O2_0JN"
      },
      "source": [
        "# Mechanistic Interpretability of Typo vs. Clean Prompts\n",
        "**Author**: Ida Caspary (Imperial College London)\n",
        "\n",
        "## Introduction\n",
        "\n",
        "The purpose of this notebook is to explore mechanistic interpretability of a large language model when it is fed prompts with small typographical errors. We want to see:\n",
        "- How hidden layers and attention distributions are affected by a single typo in the prompt.\n",
        "- How differences in activation patterns might shed light on how the model handles (or mis-handles) these noise inputs.\n",
        "\n",
        "We have **5,000 pairs** of prompts: one “clean” version and one **“typo”** version where exactly one token has been altered. For each prompt pair, we extracted from HPC runs:\n",
        "- Hidden states at layers `[0, 1, 2, 3, 4, 5, 6, 7, 10, 15, 20, 25, 30, 31]`.\n",
        "- Final logits & probabilities from layer 31.\n",
        "- Predictions, tokenization.\n",
        "\n",
        "We also have **difference files** (clean vs. typo) stored in `analyses_results/differences/activations_*.pt`.\n",
        "\n",
        "In this notebook, we will:\n",
        "1. Load these `.pt` files and inspect the differences.\n",
        "2. Perform PCA on the activation differences to see if there's a low-dimensional “typo signal.”\n",
        "3. Look at correlation, variance, and which neurons shift the most under typos.\n",
        "4. Explore ideas for analyzing mechanistic reasons behind these differences.\n",
        "\n",
        "**Note:** Some surprising initial results (e.g., extremely high explained variance in the first principal component for certain layers) indicate that the “typo difference” might be dominated by a few outlier neurons. We will investigate this further.\n"
      ]
    },
    {
      "cell_type": "markdown",
      "metadata": {
        "id": "4QY2jgOQAEc7"
      },
      "source": [
        "## Notebook Setup & Dependencies\n",
        "\n",
        "Below, we install or import all the necessary libraries. And, get the modules from the GitHub repository.\n"
      ]
    },
    {
      "cell_type": "code",
      "execution_count": null,
      "metadata": {
        "colab": {
          "base_uri": "https://localhost:8080/"
        },
        "id": "EIzvcabr_J8z",
        "outputId": "7b8107c9-acc0-46c4-c585-e64266cbd934"
      },
      "outputs": [
        {
          "output_type": "stream",
          "name": "stdout",
          "text": [
            "Python version: 3.11.11 (main, Dec  4 2024, 08:55:07) [GCC 11.4.0]\n",
            "\u001b[2K   \u001b[90m━━━━━━━━━━━━━━━━━━━━━━━━━━━━━━━━━━━━━━━━\u001b[0m \u001b[32m363.4/363.4 MB\u001b[0m \u001b[31m3.1 MB/s\u001b[0m eta \u001b[36m0:00:00\u001b[0m\n",
            "\u001b[2K   \u001b[90m━━━━━━━━━━━━━━━━━━━━━━━━━━━━━━━━━━━━━━━━\u001b[0m \u001b[32m13.8/13.8 MB\u001b[0m \u001b[31m46.5 MB/s\u001b[0m eta \u001b[36m0:00:00\u001b[0m\n",
            "\u001b[2K   \u001b[90m━━━━━━━━━━━━━━━━━━━━━━━━━━━━━━━━━━━━━━━━\u001b[0m \u001b[32m24.6/24.6 MB\u001b[0m \u001b[31m39.1 MB/s\u001b[0m eta \u001b[36m0:00:00\u001b[0m\n",
            "\u001b[2K   \u001b[90m━━━━━━━━━━━━━━━━━━━━━━━━━━━━━━━━━━━━━━━━\u001b[0m \u001b[32m883.7/883.7 kB\u001b[0m \u001b[31m24.7 MB/s\u001b[0m eta \u001b[36m0:00:00\u001b[0m\n",
            "\u001b[2K   \u001b[90m━━━━━━━━━━━━━━━━━━━━━━━━━━━━━━━━━━━━━━━━\u001b[0m \u001b[32m664.8/664.8 MB\u001b[0m \u001b[31m2.6 MB/s\u001b[0m eta \u001b[36m0:00:00\u001b[0m\n",
            "\u001b[2K   \u001b[90m━━━━━━━━━━━━━━━━━━━━━━━━━━━━━━━━━━━━━━━━\u001b[0m \u001b[32m211.5/211.5 MB\u001b[0m \u001b[31m2.3 MB/s\u001b[0m eta \u001b[36m0:00:00\u001b[0m\n",
            "\u001b[2K   \u001b[90m━━━━━━━━━━━━━━━━━━━━━━━━━━━━━━━━━━━━━━━━\u001b[0m \u001b[32m56.3/56.3 MB\u001b[0m \u001b[31m12.0 MB/s\u001b[0m eta \u001b[36m0:00:00\u001b[0m\n",
            "\u001b[2K   \u001b[90m━━━━━━━━━━━━━━━━━━━━━━━━━━━━━━━━━━━━━━━━\u001b[0m \u001b[32m127.9/127.9 MB\u001b[0m \u001b[31m6.9 MB/s\u001b[0m eta \u001b[36m0:00:00\u001b[0m\n",
            "\u001b[2K   \u001b[90m━━━━━━━━━━━━━━━━━━━━━━━━━━━━━━━━━━━━━━━━\u001b[0m \u001b[32m207.5/207.5 MB\u001b[0m \u001b[31m4.9 MB/s\u001b[0m eta \u001b[36m0:00:00\u001b[0m\n",
            "\u001b[2K   \u001b[90m━━━━━━━━━━━━━━━━━━━━━━━━━━━━━━━━━━━━━━━━\u001b[0m \u001b[32m21.1/21.1 MB\u001b[0m \u001b[31m56.6 MB/s\u001b[0m eta \u001b[36m0:00:00\u001b[0m\n",
            "\u001b[?25hCloning into 'mech-typo-detect'...\n",
            "remote: Enumerating objects: 111, done.\u001b[K\n",
            "remote: Counting objects: 100% (111/111), done.\u001b[K\n",
            "remote: Compressing objects: 100% (74/74), done.\u001b[K\n",
            "remote: Total 111 (delta 37), reused 102 (delta 28), pack-reused 0 (from 0)\u001b[K\n",
            "Receiving objects: 100% (111/111), 1.77 MiB | 15.39 MiB/s, done.\n",
            "Resolving deltas: 100% (37/37), done.\n",
            "/content/mech-typo-detect\n",
            "Using device: cpu\n"
          ]
        }
      ],
      "source": [
        "# Check Python version (optional):\n",
        "import sys\n",
        "print(\"Python version:\", sys.version)\n",
        "\n",
        "# Get installations\n",
        "!pip install --quiet torch numpy matplotlib scikit-learn\n",
        "!pip install --quiet huggingface_hub transformers\n",
        "\n",
        "# Clone and get into directory from github\n",
        "!git clone https://github.com/IdaCy/mech-typo-detect.git\n",
        "%cd mech-typo-detect\n",
        "\n",
        "import os\n",
        "import torch\n",
        "import numpy as np\n",
        "import matplotlib.pyplot as plt\n",
        "from sklearn.decomposition import PCA\n",
        "\n",
        "# If you want to check GPU usage:\n",
        "import torch\n",
        "device = \"cuda\" if torch.cuda.is_available() else \"cpu\"\n",
        "print(\"Using device:\", device)"
      ]
    },
    {
      "cell_type": "code",
      "execution_count": null,
      "metadata": {
        "colab": {
          "base_uri": "https://localhost:8080/"
        },
        "id": "tlbLSsBqFnqL",
        "outputId": "0d1eaef0-f8d2-45cb-8018-673e37046d31"
      },
      "outputs": [
        {
          "output_type": "stream",
          "name": "stdout",
          "text": [
            "Mounted at /content/drive\n"
          ]
        }
      ],
      "source": [
        "from google.colab import drive\n",
        "drive.mount('/content/drive')\n",
        "\n",
        "os.environ[\"HF_API_TOKEN\"] = \"XXX\""
      ]
    },
    {
      "cell_type": "markdown",
      "metadata": {
        "id": "Mb6UqaegFBsL"
      },
      "source": [
        "## Running Inference on Clean vs. Typo Prompts\n",
        "\n",
        "Now that we've set up the environment and verified our imports, we can move on to the actual inference step. In our repository, there's a script inside `scripts/mistral/` that performs inference on the model, generating hidden states, logits, etc."
      ]
    },
    {
      "cell_type": "code",
      "execution_count": null,
      "metadata": {
        "id": "A095FSVUBtkg"
      },
      "outputs": [],
      "source": [
        "!python scripts/mistral/inference.py"
      ]
    },
    {
      "cell_type": "markdown",
      "metadata": {
        "id": "HZCDMMWsPQT6"
      },
      "source": [
        "## Step 1: Compute Differences Between Clean & Typo\n",
        "This script, `1_diffs_compute.py`, reads combined activation files (in `big_extractions`) that contain both the “clean” and “typo” data. It then computes the differences (clean minus typo) for each relevant key (hidden states, attention scores, logits, etc.) and saves them in `analyses_results/big_differences`.\n",
        "\n",
        "**Key Points**:\n",
        "- Input directory: `extractions`\n",
        "- Output directory: `analyses_results/differences`\n",
        "- Loops through each `.pt` file and subtracts `typo` from `clean`."
      ]
    },
    {
      "cell_type": "code",
      "execution_count": null,
      "metadata": {
        "id": "RRZMKfiFId4l"
      },
      "outputs": [],
      "source": [
        "!python scripts/analyses/1_diffs_compute.py"
      ]
    },
    {
      "cell_type": "markdown",
      "metadata": {
        "id": "hHLmGkb7PfsT"
      },
      "source": [
        "## Step 2: Perform PCA on the Differences\n",
        "`2_pca_pc1.py` takes the difference files from `analyses_results/differences` (or wherever you placed them) and:\n",
        "1. Loads each difference file in parallel.\n",
        "2. Extracts the difference vectors from each layer.\n",
        "3. Runs PCA (with 10 components) and stores the PCA results and the first principal component (PC1) vector.\n",
        "4. Plots how much variance PC1 explains per layer.\n",
        "\n",
        "**Key Points**:\n",
        "- Input directory: `analyses_results/differences`\n",
        "- Output directory: `analyses_results/PCA_PC1` (for both numeric `.pt` files and a `pca_plot.png`).\n",
        "- You can control `max_samples` for memory use.\n"
      ]
    },
    {
      "cell_type": "code",
      "execution_count": null,
      "metadata": {
        "id": "mkn_lgvAKFMD"
      },
      "outputs": [],
      "source": [
        "!python scripts/analyses/2_pca_pc1.py"
      ]
    },
    {
      "cell_type": "code",
      "execution_count": null,
      "metadata": {
        "colab": {
          "base_uri": "https://localhost:8080/"
        },
        "id": "9oFoEAtgWULq",
        "outputId": "d8cb6414-ebed-480b-8925-ae57fe0caa8b"
      },
      "outputs": [
        {
          "output_type": "stream",
          "name": "stdout",
          "text": [
            "Cloning into 'mech-typo-detect'...\n",
            "remote: Enumerating objects: 111, done.\u001b[K\n",
            "remote: Counting objects:   0% (1/111)\u001b[K\rremote: Counting objects:   1% (2/111)\u001b[K\rremote: Counting objects:   2% (3/111)\u001b[K\rremote: Counting objects:   3% (4/111)\u001b[K\rremote: Counting objects:   4% (5/111)\u001b[K\rremote: Counting objects:   5% (6/111)\u001b[K\rremote: Counting objects:   6% (7/111)\u001b[K\rremote: Counting objects:   7% (8/111)\u001b[K\rremote: Counting objects:   8% (9/111)\u001b[K\rremote: Counting objects:   9% (10/111)\u001b[K\rremote: Counting objects:  10% (12/111)\u001b[K\rremote: Counting objects:  11% (13/111)\u001b[K\rremote: Counting objects:  12% (14/111)\u001b[K\rremote: Counting objects:  13% (15/111)\u001b[K\rremote: Counting objects:  14% (16/111)\u001b[K\rremote: Counting objects:  15% (17/111)\u001b[K\rremote: Counting objects:  16% (18/111)\u001b[K\rremote: Counting objects:  17% (19/111)\u001b[K\rremote: Counting objects:  18% (20/111)\u001b[K\rremote: Counting objects:  19% (22/111)\u001b[K\rremote: Counting objects:  20% (23/111)\u001b[K\rremote: Counting objects:  21% (24/111)\u001b[K\rremote: Counting objects:  22% (25/111)\u001b[K\rremote: Counting objects:  23% (26/111)\u001b[K\rremote: Counting objects:  24% (27/111)\u001b[K\rremote: Counting objects:  25% (28/111)\u001b[K\rremote: Counting objects:  26% (29/111)\u001b[K\rremote: Counting objects:  27% (30/111)\u001b[K\rremote: Counting objects:  28% (32/111)\u001b[K\rremote: Counting objects:  29% (33/111)\u001b[K\rremote: Counting objects:  30% (34/111)\u001b[K\rremote: Counting objects:  31% (35/111)\u001b[K\rremote: Counting objects:  32% (36/111)\u001b[K\rremote: Counting objects:  33% (37/111)\u001b[K\rremote: Counting objects:  34% (38/111)\u001b[K\rremote: Counting objects:  35% (39/111)\u001b[K\rremote: Counting objects:  36% (40/111)\u001b[K\rremote: Counting objects:  37% (42/111)\u001b[K\rremote: Counting objects:  38% (43/111)\u001b[K\rremote: Counting objects:  39% (44/111)\u001b[K\rremote: Counting objects:  40% (45/111)\u001b[K\rremote: Counting objects:  41% (46/111)\u001b[K\rremote: Counting objects:  42% (47/111)\u001b[K\rremote: Counting objects:  43% (48/111)\u001b[K\rremote: Counting objects:  44% (49/111)\u001b[K\rremote: Counting objects:  45% (50/111)\u001b[K\rremote: Counting objects:  46% (52/111)\u001b[K\rremote: Counting objects:  47% (53/111)\u001b[K\rremote: Counting objects:  48% (54/111)\u001b[K\rremote: Counting objects:  49% (55/111)\u001b[K\rremote: Counting objects:  50% (56/111)\u001b[K\rremote: Counting objects:  51% (57/111)\u001b[K\rremote: Counting objects:  52% (58/111)\u001b[K\rremote: Counting objects:  53% (59/111)\u001b[K\rremote: Counting objects:  54% (60/111)\u001b[K\rremote: Counting objects:  55% (62/111)\u001b[K\rremote: Counting objects:  56% (63/111)\u001b[K\rremote: Counting objects:  57% (64/111)\u001b[K\rremote: Counting objects:  58% (65/111)\u001b[K\rremote: Counting objects:  59% (66/111)\u001b[K\rremote: Counting objects:  60% (67/111)\u001b[K\rremote: Counting objects:  61% (68/111)\u001b[K\rremote: Counting objects:  62% (69/111)\u001b[K\rremote: Counting objects:  63% (70/111)\u001b[K\rremote: Counting objects:  64% (72/111)\u001b[K\rremote: Counting objects:  65% (73/111)\u001b[K\rremote: Counting objects:  66% (74/111)\u001b[K\rremote: Counting objects:  67% (75/111)\u001b[K\rremote: Counting objects:  68% (76/111)\u001b[K\rremote: Counting objects:  69% (77/111)\u001b[K\rremote: Counting objects:  70% (78/111)\u001b[K\rremote: Counting objects:  71% (79/111)\u001b[K\rremote: Counting objects:  72% (80/111)\u001b[K\rremote: Counting objects:  73% (82/111)\u001b[K\rremote: Counting objects:  74% (83/111)\u001b[K\rremote: Counting objects:  75% (84/111)\u001b[K\rremote: Counting objects:  76% (85/111)\u001b[K\rremote: Counting objects:  77% (86/111)\u001b[K\rremote: Counting objects:  78% (87/111)\u001b[K\rremote: Counting objects:  79% (88/111)\u001b[K\rremote: Counting objects:  80% (89/111)\u001b[K\rremote: Counting objects:  81% (90/111)\u001b[K\rremote: Counting objects:  82% (92/111)\u001b[K\rremote: Counting objects:  83% (93/111)\u001b[K\rremote: Counting objects:  84% (94/111)\u001b[K\rremote: Counting objects:  85% (95/111)\u001b[K\rremote: Counting objects:  86% (96/111)\u001b[K\rremote: Counting objects:  87% (97/111)\u001b[K\rremote: Counting objects:  88% (98/111)\u001b[K\rremote: Counting objects:  89% (99/111)\u001b[K\rremote: Counting objects:  90% (100/111)\u001b[K\rremote: Counting objects:  91% (102/111)\u001b[K\rremote: Counting objects:  92% (103/111)\u001b[K\rremote: Counting objects:  93% (104/111)\u001b[K\rremote: Counting objects:  94% (105/111)\u001b[K\rremote: Counting objects:  95% (106/111)\u001b[K\rremote: Counting objects:  96% (107/111)\u001b[K\rremote: Counting objects:  97% (108/111)\u001b[K\rremote: Counting objects:  98% (109/111)\u001b[K\rremote: Counting objects:  99% (110/111)\u001b[K\rremote: Counting objects: 100% (111/111)\u001b[K\rremote: Counting objects: 100% (111/111), done.\u001b[K\n",
            "remote: Compressing objects: 100% (74/74), done.\u001b[K\n",
            "remote: Total 111 (delta 37), reused 102 (delta 28), pack-reused 0 (from 0)\u001b[K\n",
            "Receiving objects: 100% (111/111), 1.77 MiB | 22.99 MiB/s, done.\n",
            "Resolving deltas: 100% (37/37), done.\n",
            "/content/mech-typo-detect/mech-typo-detect\n"
          ]
        }
      ],
      "source": [
        "!git clone https://github.com/IdaCy/mech-typo-detect.git\n",
        "%cd mech-typo-detect"
      ]
    },
    {
      "cell_type": "markdown",
      "metadata": {
        "id": "2sZ30Tj7PzOM"
      },
      "source": [
        "## Step 3: Check PCA Results\n",
        "Finally, `3_pca_check.py` will:\n",
        "1. Load the PCA results (`layer_pca_results.pt`) and PC1 vectors (`layer_pc1_vectors.pt`).\n",
        "2. Print a summary of each layer’s top 10 explained variance ratios.\n",
        "3. Show the shape of the PC1 vectors (and optionally prints a few elements).\n",
        "4. Create a quick plot of PC1 explained variance ratio across layers.\n",
        "\n",
        "**Key Points**:\n",
        "- Reads from `analyses_results/PCA_PC1/layer_pca_results.pt` and `layer_pc1_vectors.pt`.\n",
        "- Plots the explained variance for PC1 per layer.\n",
        "- Displays the figure in the notebook."
      ]
    },
    {
      "cell_type": "code",
      "execution_count": null,
      "metadata": {
        "colab": {
          "base_uri": "https://localhost:8080/",
          "height": 1000
        },
        "id": "K8T-wdPUVaND",
        "outputId": "195a8c8d-0360-4b80-f181-5b6993024a92"
      },
      "outputs": [
        {
          "output_type": "stream",
          "name": "stdout",
          "text": [
            "=== PCA Results Summary ===\n",
            "Type of PCA results: <class 'dict'>\n",
            "Layers found: ['layer_0', 'layer_1', 'layer_2', 'layer_3', 'layer_4', 'layer_5', 'layer_6', 'layer_7', 'layer_10', 'layer_15', 'layer_20', 'layer_25', 'layer_30', 'layer_31']\n",
            "Total layers: 14\n",
            "\n",
            "Layer layer_0:\n",
            "  Explained variance ratios (top 10): [0.04447212 0.02568739 0.02283133 0.02011898 0.01450857 0.01263586\n",
            " 0.01228408 0.01107478 0.00986411 0.00853996]\n",
            "\n",
            "Layer layer_1:\n",
            "  Explained variance ratios (top 10): [9.6497720e-01 1.6532047e-03 1.2876085e-03 9.9266914e-04 7.5394358e-04\n",
            " 6.6311809e-04 5.3007394e-04 5.0650304e-04 4.4242959e-04 4.3132415e-04]\n",
            "\n",
            "Layer layer_2:\n",
            "  Explained variance ratios (top 10): [9.9996758e-01 3.8787971e-06 2.6100363e-06 1.1601883e-06 1.0431118e-06\n",
            " 8.0880022e-07 7.1690289e-07 6.0613166e-07 5.5054562e-07 4.7129390e-07]\n",
            "\n",
            "Layer layer_3:\n",
            "  Explained variance ratios (top 10): [9.9990422e-01 6.5014933e-06 3.7147388e-06 3.3264946e-06 2.2307752e-06\n",
            " 2.0255482e-06 1.7475334e-06 1.5025255e-06 1.2251045e-06 1.1996973e-06]\n",
            "\n",
            "Layer layer_4:\n",
            "  Explained variance ratios (top 10): [9.9984980e-01 1.4032689e-05 4.7625426e-06 4.1195863e-06 3.6200420e-06\n",
            " 2.9734144e-06 2.2844915e-06 1.9500483e-06 1.8135296e-06 1.7216420e-06]\n",
            "\n",
            "Layer layer_5:\n",
            "  Explained variance ratios (top 10): [9.9970543e-01 2.0767673e-05 8.8691031e-06 7.3565739e-06 5.7735142e-06\n",
            " 5.5074220e-06 4.1594813e-06 3.3865526e-06 3.1312311e-06 3.0008500e-06]\n",
            "\n",
            "Layer layer_6:\n",
            "  Explained variance ratios (top 10): [9.9939525e-01 3.3577253e-05 1.7613827e-05 1.4248795e-05 1.2170452e-05\n",
            " 9.8244063e-06 8.4625717e-06 6.3577136e-06 5.9711824e-06 5.5323694e-06]\n",
            "\n",
            "Layer layer_7:\n",
            "  Explained variance ratios (top 10): [9.9931920e-01 6.1522784e-05 2.2203878e-05 1.6895086e-05 1.4829631e-05\n",
            " 1.1495779e-05 9.2070059e-06 6.7473534e-06 6.5836093e-06 6.2530253e-06]\n",
            "\n",
            "Layer layer_10:\n",
            "  Explained variance ratios (top 10): [9.9836868e-01 1.7566714e-04 6.5698870e-05 5.8169255e-05 4.1378327e-05\n",
            " 3.2988035e-05 2.5970361e-05 1.7243266e-05 1.6963057e-05 1.5614763e-05]\n",
            "\n",
            "Layer layer_15:\n",
            "  Explained variance ratios (top 10): [9.95144010e-01 3.30199633e-04 1.71367850e-04 1.25412451e-04\n",
            " 1.03851235e-04 7.83707292e-05 7.73818974e-05 7.35117719e-05\n",
            " 5.79966509e-05 5.44193936e-05]\n",
            "\n",
            "Layer layer_20:\n",
            "  Explained variance ratios (top 10): [9.7267962e-01 1.5435162e-03 7.9993642e-04 5.5312092e-04 5.0637440e-04\n",
            " 4.7399302e-04 4.2803385e-04 3.5851559e-04 3.4533642e-04 3.2147131e-04]\n",
            "\n",
            "Layer layer_25:\n",
            "  Explained variance ratios (top 10): [9.3559694e-01 3.7255189e-03 1.9918373e-03 1.6951563e-03 1.2990842e-03\n",
            " 1.1352821e-03 1.0140197e-03 8.8322355e-04 7.8517856e-04 6.7278440e-04]\n",
            "\n",
            "Layer layer_30:\n",
            "  Explained variance ratios (top 10): [0.8328521  0.01275658 0.00516273 0.00432651 0.00361329 0.00280706\n",
            " 0.00239701 0.00197519 0.00180821 0.00169517]\n",
            "\n",
            "Layer layer_31:\n",
            "  Explained variance ratios (top 10): [0.7541004  0.02102566 0.00822882 0.00655522 0.0054411  0.00428918\n",
            " 0.0037584  0.003135   0.00295805 0.00268997]\n",
            "\n",
            "=== PC1 Vectors Summary ===\n",
            "Type of PC1 vectors: <class 'dict'>\n",
            "Layers found: ['layer_0', 'layer_1', 'layer_2', 'layer_3', 'layer_4', 'layer_5', 'layer_6', 'layer_7', 'layer_10', 'layer_15', 'layer_20', 'layer_25', 'layer_30', 'layer_31']\n",
            "Total layers: 14\n",
            "\n",
            "Layer layer_0:\n",
            "  PC1 vector shape: (4096,)\n",
            "  First 5 elements: [-0.01475475 -0.00424211 -0.03147998 -0.00139     0.00066293]\n",
            "\n",
            "Layer layer_1:\n",
            "  PC1 vector shape: (4096,)\n",
            "  First 5 elements: [ 0.0001291   0.00025615  0.03089947 -0.00013137 -0.00030087]\n",
            "\n",
            "Layer layer_2:\n",
            "  PC1 vector shape: (4096,)\n",
            "  First 5 elements: [ 4.4977665e-04  1.5208514e-03  5.3959101e-04 -9.1717222e-05\n",
            " -1.0115860e-04]\n",
            "\n",
            "Layer layer_3:\n",
            "  PC1 vector shape: (4096,)\n",
            "  First 5 elements: [ 4.7433376e-04  1.5323217e-03  5.5047852e-04 -1.0082495e-04\n",
            " -9.8200304e-05]\n",
            "\n",
            "Layer layer_4:\n",
            "  PC1 vector shape: (4096,)\n",
            "  First 5 elements: [ 4.8923492e-04  1.5223351e-03  5.7472207e-04 -1.1822070e-04\n",
            " -3.2736287e-05]\n",
            "\n",
            "Layer layer_5:\n",
            "  PC1 vector shape: (4096,)\n",
            "  First 5 elements: [ 4.93407249e-04  1.55531801e-03  5.61458874e-04 -1.09001565e-04\n",
            " -4.91565379e-06]\n",
            "\n",
            "Layer layer_6:\n",
            "  PC1 vector shape: (4096,)\n",
            "  First 5 elements: [ 5.0354004e-04  1.5290905e-03  5.2902458e-04 -1.2207079e-04\n",
            "  3.1168860e-05]\n",
            "\n",
            "Layer layer_7:\n",
            "  PC1 vector shape: (4096,)\n",
            "  First 5 elements: [ 0.00050783  0.00149633  0.00056061 -0.00011773  0.00011796]\n",
            "\n",
            "Layer layer_10:\n",
            "  PC1 vector shape: (4096,)\n",
            "  First 5 elements: [ 0.00051761  0.00139298  0.00042053 -0.00019753  0.00026331]\n",
            "\n",
            "Layer layer_15:\n",
            "  PC1 vector shape: (4096,)\n",
            "  First 5 elements: [ 0.00049376  0.00118257  0.00048377 -0.0001271   0.00013027]\n",
            "\n",
            "Layer layer_20:\n",
            "  PC1 vector shape: (4096,)\n",
            "  First 5 elements: [ 0.00078321  0.00234055  0.00056911 -0.00045039  0.00016764]\n",
            "\n",
            "Layer layer_25:\n",
            "  PC1 vector shape: (4096,)\n",
            "  First 5 elements: [ 0.00082231  0.00206164  0.00018671 -0.00019865 -0.00014746]\n",
            "\n",
            "Layer layer_30:\n",
            "  PC1 vector shape: (4096,)\n",
            "  First 5 elements: [ 0.00185227  0.00143452  0.00086261 -0.00112284 -0.0010457 ]\n",
            "\n",
            "Layer layer_31:\n",
            "  PC1 vector shape: (4096,)\n",
            "  First 5 elements: [ 0.0035398   0.0031512   0.0039263  -0.00306794 -0.00301601]\n",
            "\n"
          ]
        },
        {
          "output_type": "display_data",
          "data": {
            "text/plain": [
              "<Figure size 1000x500 with 1 Axes>"
            ],
            "image/png": "[encoded data removed]"
          },
          "metadata": {}
        },
        {
          "output_type": "display_data",
          "data": {
            "text/plain": [
              "<Figure size 640x480 with 0 Axes>"
            ]
          },
          "metadata": {}
        }
      ],
      "source": [
        "%run scripts/analyses/3_pca_check.py"
      ]
    }
  ],
  "metadata": {
    "colab": {
      "provenance": [],
      "include_colab_link": true
    },
    "kernelspec": {
      "display_name": "Python 3",
      "name": "python3"
    },
    "language_info": {
      "name": "python"
    }
  },
  "nbformat": 4,
  "nbformat_minor": 0
}